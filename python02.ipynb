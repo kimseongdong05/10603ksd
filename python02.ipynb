{
  "nbformat": 4,
  "nbformat_minor": 0,
  "metadata": {
    "colab": {
      "name": "python02.ipynb",
      "provenance": [],
      "collapsed_sections": [],
      "toc_visible": true,
      "include_colab_link": true
    },
    "kernelspec": {
      "name": "python3",
      "display_name": "Python 3"
    },
    "language_info": {
      "name": "python"
    }
  },
  "cells": [
    {
      "cell_type": "markdown",
      "metadata": {
        "id": "view-in-github",
        "colab_type": "text"
      },
      "source": [
        "<a href=\"https://colab.research.google.com/github/kimseongdong05/10603ksd/blob/main/python02.ipynb\" target=\"_parent\"><img src=\"https://colab.research.google.com/assets/colab-badge.svg\" alt=\"Open In Colab\"/></a>"
      ]
    },
    {
      "cell_type": "markdown",
      "metadata": {
        "id": "U_N0OPT_KdOK"
      },
      "source": [
        "# **컬렉션자료형(collection data type)**\n",
        "+ 여러 요소를 묶어서 처리할 수 있는 자료형 \n",
        "+ 각 요소에 접근하는 방법이 제공\n",
        "\n",
        "![대체 텍스트](https://drive.google.com/uc?export=view&id=1qNHKZPJv546haViE6KBY3kg8gUlHJm_F)"
      ]
    },
    {
      "cell_type": "markdown",
      "metadata": {
        "id": "bskomZoIKr0G"
      },
      "source": [
        "## 문자열 "
      ]
    },
    {
      "cell_type": "markdown",
      "metadata": {
        "id": "wrbbIeVOdXc7"
      },
      "source": [
        "### 문자열 요소 접근"
      ]
    },
    {
      "cell_type": "code",
      "metadata": {
        "id": "CWKy8Fo7eq94",
        "colab": {
          "base_uri": "https://localhost:8080/"
        },
        "outputId": "92ddb2b0-a3a7-4247-c9bc-43532b5f3a98"
      },
      "source": [
        "#문자요소 접근 \n",
        "s = 'Hello Python!'\n",
        "print(s[0:5])"
      ],
      "execution_count": null,
      "outputs": [
        {
          "output_type": "stream",
          "text": [
            "\n"
          ],
          "name": "stdout"
        }
      ]
    },
    {
      "cell_type": "code",
      "metadata": {
        "id": "miz06G75eKkW"
      },
      "source": [
        "[9] # 문자열에 포함된 숫자들의 합\n",
        "    s = 'covid19'"
      ],
      "execution_count": null,
      "outputs": []
    },
    {
      "cell_type": "code",
      "metadata": {
        "colab": {
          "base_uri": "https://localhost:8080/"
        },
        "id": "kzz6Lj75cDgG",
        "outputId": "a9691027-e4bf-4fa4-dfd2-debe0c76f2b5"
      },
      "source": [
        "date = input()\n",
        "\n",
        "sum = 0\n",
        "for item in s :\n",
        "  if '1' <= item <= '9' : \n",
        "    sum = sum + int(item)\n",
        "\n",
        "print(f'{date} 중 숫자의 합은  {sum}')    "
      ],
      "execution_count": null,
      "outputs": [
        {
          "output_type": "stream",
          "text": [
            "covid19\n",
            "covid19 중 숫자의 합은  10\n"
          ],
          "name": "stdout"
        }
      ]
    },
    {
      "cell_type": "markdown",
      "metadata": {
        "id": "EeRoj_qXeTUz"
      },
      "source": [
        "### 문자열 인덱싱\n",
        " -  문자열의 각 문자는 0부터 시작되는 인덱스를 가짐\n",
        " - [인덱스]를 이용하여 인덱스위치의 문자 추출 :  처음위치 [0], 마지막위치 [-1]\n",
        " "
      ]
    },
    {
      "cell_type": "code",
      "metadata": {
        "id": "RAggJY-wejri"
      },
      "source": [
        "s = 'Hello Python!'\n",
        "\n",
        "# 첫번쨰 문자\n",
        "\n",
        "# 마지막 문자 "
      ],
      "execution_count": null,
      "outputs": []
    },
    {
      "cell_type": "markdown",
      "metadata": {
        "id": "b_aP0gP72DaV"
      },
      "source": [
        "---\n",
        "### 해결문제\n",
        "---\n",
        "주민번호를 입력받아서 남여를 구분하시오. 입력형식 123456-1234567"
      ]
    },
    {
      "cell_type": "code",
      "metadata": {
        "id": "97RRp4Vf2VAs"
      },
      "source": [
        " a = input()\n",
        " if a[7] == '1' or a[7] == '3':\n",
        "   print('남')\n",
        " else:\n",
        "   print('여')  "
      ],
      "execution_count": null,
      "outputs": []
    },
    {
      "cell_type": "markdown",
      "metadata": {
        "id": "_ECVXl6meezS"
      },
      "source": [
        "\n",
        "### 문자열 슬라이싱 \n",
        " - [인덱스1:인덱스2]: 인덱스1 위치에서 인덱스2 -1 위치까지 잘라냄\n",
        " - [인덱스1:] : 인덱스1 위치에서 끝까지 잘라냄\n",
        " - [: 인덱스2] : 처음부터 인덱스2 -1 위치까지 잘라냄"
      ]
    },
    {
      "cell_type": "code",
      "metadata": {
        "id": "u7XUAQwvfSP2",
        "colab": {
          "base_uri": "https://localhost:8080/",
          "height": 35
        },
        "outputId": "6d1110fa-cb3c-4d7c-8cba-5b8c380bd60d"
      },
      "source": [
        "s = 'Hello Python!'\n",
        "\n",
        "# 5글자 추출\n",
        "s[:5]"
      ],
      "execution_count": null,
      "outputs": [
        {
          "output_type": "execute_result",
          "data": {
            "application/vnd.google.colaboratory.intrinsic+json": {
              "type": "string"
            },
            "text/plain": [
              "'Hello'"
            ]
          },
          "metadata": {
            "tags": []
          },
          "execution_count": 44
        }
      ]
    },
    {
      "cell_type": "markdown",
      "metadata": {
        "id": "9JuBLEqQjfRn"
      },
      "source": [
        "### 문자열 연산\n",
        "+ 문자열 더하기(+)\n",
        "+ 문자열 곱하기(*)"
      ]
    },
    {
      "cell_type": "code",
      "metadata": {
        "id": "1K42RN_kjj1L",
        "colab": {
          "base_uri": "https://localhost:8080/"
        },
        "outputId": "2b44c0c0-7c01-4c02-92a9-493ba1069aac"
      },
      "source": [
        "'''\n",
        "다음과 같이 출력\n",
        "------------------------------\n",
        "Hello Python!2021\n",
        "------------------------------\n",
        "'''\n",
        "s = 'Hello Python!'\n",
        " \n",
        "a = '------------------------------'\n",
        "print(a)\n",
        "print(s,'2021')\n",
        "print(a)"
      ],
      "execution_count": null,
      "outputs": [
        {
          "output_type": "stream",
          "text": [
            "------------------------------\n",
            "Hello Python! 2021\n",
            "------------------------------\n"
          ],
          "name": "stdout"
        }
      ]
    },
    {
      "cell_type": "code",
      "metadata": {
        "colab": {
          "base_uri": "https://localhost:8080/"
        },
        "id": "tUdU8v6zm4Ka",
        "outputId": "bd52a445-6626-4438-a2ce-45e6a2c4ed38"
      },
      "source": [
        "s.index('P')"
      ],
      "execution_count": null,
      "outputs": [
        {
          "output_type": "execute_result",
          "data": {
            "text/plain": [
              "6"
            ]
          },
          "metadata": {
            "tags": []
          },
          "execution_count": 51
        }
      ]
    },
    {
      "cell_type": "code",
      "metadata": {
        "colab": {
          "base_uri": "https://localhost:8080/"
        },
        "id": "Jr3F8IEfnkyJ",
        "outputId": "7ff1e595-f4b7-47d3-d019-7e8f990d83c5"
      },
      "source": [
        "s = 'Hello Python!'\n",
        "s.split(' ')"
      ],
      "execution_count": null,
      "outputs": [
        {
          "output_type": "execute_result",
          "data": {
            "text/plain": [
              "['Hello', 'Python!']"
            ]
          },
          "metadata": {
            "tags": []
          },
          "execution_count": 56
        }
      ]
    },
    {
      "cell_type": "markdown",
      "metadata": {
        "id": "AMTyZCqsfi6c"
      },
      "source": [
        "### **문자열 메소드**\n",
        "+ **len()** : 문자열 길이 구하기\n",
        "+ **count()** : 문자의 개수 구하기\n",
        "+ **find()** : 문자가 처음 나오는 위치 반환 , 없으면 -1\n",
        "+ **index()** : 문자가 처음 나오는 위치 반환, 없으면 오류\n",
        "+ **join()** : 문자열 사이에 문자 삽입, 삽입문자’.join(문자열)\n",
        "+ **upper()** :소문자를 대문자로 변환\n",
        "+ **lower()** : 대문자를 소문자로 변환\n",
        "+ **replace()** : 문자열 바꾸기\n",
        "+ **replace(원본, 변환문자)**\n",
        "+ **split()** : 문자열 나누기\n",
        " - 인수가 없으면 공백(스페이스, 탭, 엔터 등)을 기준"
      ]
    },
    {
      "cell_type": "markdown",
      "metadata": {
        "id": "wehzUobPivZ1"
      },
      "source": [
        "---\n",
        "### 해결문제\n",
        "---\n",
        "코로나(corona)는 라틴말로 왕관을 뜻하며 통상 태양을 둘러싼 외곽의 빛(광환)을 지칭한다. 코로나바이러스라는 이름은 전자현미경으로 이 바이러스를 관찰했을 때 마치 코로나와 유사한 모양을 띠어 붙여진 이름이다. 이번에 중국의 우환에서 시작된 코로나바이러스는 2019년에 발견된 새로운 코로나바이러스라는 뜻으로 2019-nCoV로 붙여졌다. nCoV는 novel(새로운) CoV(코로나바이러스)라는 뜻이다.\n",
        "\n",
        "+ 주어진 문자열은 문장으로 구성 되어 있는지 출력하시오. \n",
        "+ 찾고자 하는 단어를 입력 받아서 해당 단어가 몇 번 언급되었는지 확인해 보세요."
      ]
    },
    {
      "cell_type": "code",
      "metadata": {
        "id": "Bm6acluwjTZf",
        "colab": {
          "base_uri": "https://localhost:8080/"
        },
        "outputId": "aa620935-2dc4-4417-92cb-0dc46c451ab5"
      },
      "source": [
        "'''\n",
        "다음과 같이 출력 \n",
        "--------------------------------------------------\n",
        "4개의 문장으로 이루어져있습니다.\n",
        "['코로나(corona)는 라틴말로 왕관을 뜻하며 통상 태양을 둘러싼 외곽의 빛(광환)을 지칭한다', ' 코로나바이러스라는 이름은 전자현미경으로 이 바이러스를 관찰했을 때 마치 코로나와 유사한 모양을 띠어 붙여진 이름이다', ' 이번에 중국의 우환에서 시작된 코로나바이러스는 2019년에 발견된 새로운 코로나바이러스라는 뜻으로 2019-nCoV로 붙여졌다', ' nCoV는 novel(새로운) CoV(코로나바이러스)라는 뜻이다', ' ']\n",
        "--------------------------------------------------\n",
        "찾고자하는 단어를 입력하세요.코로나\n",
        "--------------------------------------------------\n",
        "코로나는 6번 언급되었습니다.\n",
        "--------------------------------------------------\n",
        "'''\n",
        "\n",
        "corona = '''\n",
        "코로나(corona)는 라틴말로 왕관을 뜻하며 통상 태양을 둘러싼 외곽의 빛(광환)을 지칭한다. \n",
        "코로나바이러스라는 이름은 전자현미경으로 이 바이러스를 관찰했을 때 마치 코로나와 유사한 모양을 띠어 붙여진 이름이다. \n",
        "이번에 중국의 우환에서 시작된 코로나바이러스는 2019년에 발견된 새로운 코로나바이러스라는 뜻으로 2019-nCoV로 붙여졌다. \n",
        "nCoV는 novel(새로운) CoV(코로나바이러스)라는 뜻이다. \n",
        "'''\n",
        " \n",
        "print(corona.count(\".\"))\n",
        "corona = corona.replace('\\n','')\n",
        "print(corona.split(\".\"))\n"
      ],
      "execution_count": null,
      "outputs": [
        {
          "output_type": "stream",
          "text": [
            "4\n",
            "['코로나(corona)는 라틴말로 왕관을 뜻하며 통상 태양을 둘러싼 외곽의 빛(광환)을 지칭한다', ' 코로나바이러스라는 이름은 전자현미경으로 이 바이러스를 관찰했을 때 마치 코로나와 유사한 모양을 띠어 붙여진 이름이다', ' 이번에 중국의 우환에서 시작된 코로나바이러스는 2019년에 발견된 새로운 코로나바이러스라는 뜻으로 2019-nCoV로 붙여졌다', ' nCoV는 novel(새로운) CoV(코로나바이러스)라는 뜻이다', ' ']\n"
          ],
          "name": "stdout"
        }
      ]
    },
    {
      "cell_type": "code",
      "metadata": {
        "colab": {
          "base_uri": "https://localhost:8080/"
        },
        "id": "_tG0KkpRpiXC",
        "outputId": "46f8f492-ea70-434d-c0bb-5f2ecd4fbb56"
      },
      "source": [
        "w = input()\n",
        "\n",
        "print(corona.count(w))"
      ],
      "execution_count": null,
      "outputs": [
        {
          "output_type": "stream",
          "text": [
            "코로나\n",
            "6\n"
          ],
          "name": "stdout"
        }
      ]
    },
    {
      "cell_type": "markdown",
      "metadata": {
        "id": "ijNhIH6CmrXJ"
      },
      "source": [
        "## **리스트(list)**\n",
        " - 리스트의 각 요소는 순서를 가지고 있음\n",
        " - 대괄호([])로 작성되며 각 요소는 쉼표(,)로 구분\n",
        " - 요소를 추가, 수정, 삭제 가능"
      ]
    },
    {
      "cell_type": "markdown",
      "metadata": {
        "id": "3SrhTGkinJz7"
      },
      "source": [
        "### 리스트 생성\n",
        "+ []나 리스트 함수"
      ]
    },
    {
      "cell_type": "code",
      "metadata": {
        "id": "9BAADR6snRE5"
      },
      "source": [
        "lt = []"
      ],
      "execution_count": null,
      "outputs": []
    },
    {
      "cell_type": "markdown",
      "metadata": {
        "id": "DT3ToqCOoJKi"
      },
      "source": [
        "### 리스트 요소 접근"
      ]
    },
    {
      "cell_type": "code",
      "metadata": {
        "id": "9b4wEJ17oNLo"
      },
      "source": [
        "lt = ['1', '2', '3', '4', '5']\n",
        "\n",
        "# 각 요소 한줄로 출력 \n",
        "# 출력 : 1 2 3 4 5 \n",
        "\n",
        "for i in it :\n",
        "  print(i, end = ' ') "
      ],
      "execution_count": null,
      "outputs": []
    },
    {
      "cell_type": "code",
      "metadata": {
        "id": "CzTw-YF0oiq5"
      },
      "source": [
        "lt = ['1', '2', '3', '4', '5']\n",
        "print(f'{lt} => {type(lt)}')\n",
        "\n",
        "for i in lt :\n",
        "  print(i,type(i),end = ' ')\n",
        "\n",
        "#요소를 모두 정수로 변환  \n",
        "lt = [int(i) for i in lt]\n",
        "for i in it :\n",
        "  pritn(i,type(i),end = ' ')"
      ],
      "execution_count": null,
      "outputs": []
    },
    {
      "cell_type": "markdown",
      "metadata": {
        "id": "ZzvRHvMKtPo6"
      },
      "source": [
        "---\n",
        "\n",
        "**생각해보기 해결문제)**\n",
        "\n",
        "\n",
        "---\n",
        "정수형으로 입력되는 밑변과 높이를 공백을 기준으로 한 줄로 입력받는다면?\n",
        "* 예) 20 10"
      ]
    },
    {
      "cell_type": "code",
      "metadata": {
        "id": "LsKC8ezKtV5J",
        "colab": {
          "base_uri": "https://localhost:8080/"
        },
        "outputId": "8df06c73-2e60-45a4-af78-d735b14cea09"
      },
      "source": [
        "date = input()\n",
        "\n",
        "x = date.split(' ')\n",
        "x = [int(i) for i in x]\n",
        "print(x)\n",
        "print(f'밑변{x[0]},높이 {x[1]} => 면적 {x[0] * x[1] / 2}')"
      ],
      "execution_count": null,
      "outputs": [
        {
          "output_type": "stream",
          "text": [
            "5 6\n",
            "[5, 6]\n",
            "밑변5,높이 6 => 면적 15.0\n"
          ],
          "name": "stdout"
        }
      ]
    },
    {
      "cell_type": "code",
      "metadata": {
        "colab": {
          "base_uri": "https://localhost:8080/"
        },
        "id": "xh49JSOjD4zV",
        "outputId": "da1f6cda-379a-4caf-f943-6a769c33fde6"
      },
      "source": [
        "lt = ['1', '2', '3', '4', '5']\n",
        "it"
      ],
      "execution_count": 7,
      "outputs": [
        {
          "output_type": "execute_result",
          "data": {
            "text/plain": [
              "[1, 2, 3, 4, 5]"
            ]
          },
          "metadata": {
            "tags": []
          },
          "execution_count": 7
        }
      ]
    },
    {
      "cell_type": "code",
      "metadata": {
        "colab": {
          "base_uri": "https://localhost:8080/"
        },
        "id": "-oLQBq8AEPnM",
        "outputId": "de6cfff0-6529-4bd3-a7c9-f6d6ec253250"
      },
      "source": [
        "for item in lt:\n",
        "  print(item,type(item),int(item),type(int(item)))"
      ],
      "execution_count": 10,
      "outputs": [
        {
          "output_type": "stream",
          "text": [
            "1 <class 'str'> 1 <class 'int'>\n",
            "2 <class 'str'> 2 <class 'int'>\n",
            "3 <class 'str'> 3 <class 'int'>\n",
            "4 <class 'str'> 4 <class 'int'>\n",
            "5 <class 'str'> 5 <class 'int'>\n"
          ],
          "name": "stdout"
        }
      ]
    },
    {
      "cell_type": "code",
      "metadata": {
        "colab": {
          "base_uri": "https://localhost:8080/"
        },
        "id": "k_cY9_QjGJ9M",
        "outputId": "4733a266-cdff-41c2-d294-c12a2e4d7a19"
      },
      "source": [
        "lt = [int(item) for item in lt]\n",
        "lt"
      ],
      "execution_count": 20,
      "outputs": [
        {
          "output_type": "execute_result",
          "data": {
            "text/plain": [
              "[1, 2, 3, 4, 5]"
            ]
          },
          "metadata": {
            "tags": []
          },
          "execution_count": 20
        }
      ]
    },
    {
      "cell_type": "code",
      "metadata": {
        "colab": {
          "base_uri": "https://localhost:8080/"
        },
        "id": "5aEVfRpfEyeX",
        "outputId": "86887314-cf6a-4b0e-e537-8524e9618c3a"
      },
      "source": [
        "lt[0] = int(lt[0])\n",
        "lt[1] = int(lt[1])\n",
        "lt[2] = int(lt[2])\n",
        "\n",
        "#range(5) => 0-4\n",
        "for i in range(len(lt)) :\n",
        "  lt[i] =  int(lt[i])\n",
        "\n",
        "lt"
      ],
      "execution_count": 18,
      "outputs": [
        {
          "output_type": "execute_result",
          "data": {
            "text/plain": [
              "[1, 2, 3, 4, 5]"
            ]
          },
          "metadata": {
            "tags": []
          },
          "execution_count": 18
        }
      ]
    },
    {
      "cell_type": "markdown",
      "metadata": {
        "id": "ih2lzZgSnXr6"
      },
      "source": [
        "### 리스트 인덱싱\n",
        " - 요소의 선택은 0부터 시작되는 인덱스로 접근\n",
        " - 리스트명[인덱스]"
      ]
    },
    {
      "cell_type": "code",
      "metadata": {
        "id": "7d_oMnoinapv"
      },
      "source": [
        "lt = [1 , 3, 5]\n",
        "\n",
        "#마지막 요소 출력"
      ],
      "execution_count": null,
      "outputs": []
    },
    {
      "cell_type": "markdown",
      "metadata": {
        "id": "4kkhezktnt7Z"
      },
      "source": [
        "### 리스트 슬라이싱\n",
        " - 요소의 일부분 선택\n",
        " - 리스트명[시작인덱스:종료인덱스] : 종료인덱스는 포함되지 않음"
      ]
    },
    {
      "cell_type": "code",
      "metadata": {
        "id": "7xe1tbXvnzG5",
        "colab": {
          "base_uri": "https://localhost:8080/"
        },
        "outputId": "c126f9d1-0cb4-4f44-9d68-77b7b4a2040b"
      },
      "source": [
        "lt = [1 , 3, 5]\n",
        "print(lt[1:])\n",
        "#3, 5 추출 "
      ],
      "execution_count": 23,
      "outputs": [
        {
          "output_type": "stream",
          "text": [
            "[3, 5]\n"
          ],
          "name": "stdout"
        }
      ]
    },
    {
      "cell_type": "markdown",
      "metadata": {
        "id": "TdtqmVq-pRDQ"
      },
      "source": [
        "### 리스트 연산\n",
        "+ 더하기(+) : 리스트와 리스트 연결\n",
        "+ 곱하기(*) : 리스트 요소 반복"
      ]
    },
    {
      "cell_type": "code",
      "metadata": {
        "id": "Yr-2ScgTpbe4",
        "colab": {
          "base_uri": "https://localhost:8080/"
        },
        "outputId": "3972bff7-8aeb-4570-b501-9f17fa097f8c"
      },
      "source": [
        "lt1 = [1, 2, 3]\n",
        "lt2 = [3, 4, 5]\n",
        "\n",
        "#두 리스트 더하기 \n",
        "lt = lt1+lt2\n",
        "print('리스트 더하기:',lt)\n",
        "#lt1 리스트 요소 3번 반복하기 \n",
        "print(lt1 * 3)"
      ],
      "execution_count": 27,
      "outputs": [
        {
          "output_type": "stream",
          "text": [
            "리스트 더하기: [1, 2, 3, 3, 4, 5]\n",
            "[1, 2, 3, 1, 2, 3, 1, 2, 3]\n"
          ],
          "name": "stdout"
        }
      ]
    },
    {
      "cell_type": "code",
      "metadata": {
        "colab": {
          "base_uri": "https://localhost:8080/"
        },
        "id": "fXpHs-2FH1Sa",
        "outputId": "f20d77ef-b81e-4649-f91a-c74079fa15fe"
      },
      "source": [
        "s1 = 'hello'\n",
        "s2 = 'python!'\n",
        "\n",
        "print(s1 + s2)\n",
        "print(s1 * 3)\n"
      ],
      "execution_count": 44,
      "outputs": [
        {
          "output_type": "stream",
          "text": [
            "hellopython!\n",
            "hellohellohello\n"
          ],
          "name": "stdout"
        }
      ]
    },
    {
      "cell_type": "code",
      "metadata": {
        "colab": {
          "base_uri": "https://localhost:8080/"
        },
        "id": "XawGZ1e5IJBc",
        "outputId": "fef78ea6-27fc-4fba-bbaa-7f481201753a"
      },
      "source": [
        "lt1 = [1, 2, 3]\n",
        "lt2 = [3, 4, 5]\n",
        "\n",
        "lt = [0, 0, 0]\n",
        "\n",
        "for i in range(len(lt1)) :\n",
        "  lt[i] = lt1[i] + lt2[i]\n",
        "\n",
        "print(lt)  "
      ],
      "execution_count": 48,
      "outputs": [
        {
          "output_type": "stream",
          "text": [
            "[4, 6, 8]\n"
          ],
          "name": "stdout"
        }
      ]
    },
    {
      "cell_type": "code",
      "metadata": {
        "colab": {
          "base_uri": "https://localhost:8080/"
        },
        "id": "uwQLmPr6JjHX",
        "outputId": "da71955c-4364-4f64-8fa8-59979aa0ba4a"
      },
      "source": [
        "lt1 = [1, 2, 3]\n",
        "lt2 = [3, 4, 5]\n",
        "\n",
        "lt = []\n",
        "\n",
        "for i in range(len(lt1)) :\n",
        "  lt.append(lt1[i] + lt2[i])\n",
        "\n",
        "print(lt)  "
      ],
      "execution_count": 42,
      "outputs": [
        {
          "output_type": "stream",
          "text": [
            "[4, 6, 8]\n"
          ],
          "name": "stdout"
        }
      ]
    },
    {
      "cell_type": "code",
      "metadata": {
        "colab": {
          "base_uri": "https://localhost:8080/"
        },
        "id": "d3AHpUvTKkH5",
        "outputId": "de3da666-1557-4493-e6a6-17fa0b004975"
      },
      "source": [
        "lt.remove(6)\n",
        "lt"
      ],
      "execution_count": 43,
      "outputs": [
        {
          "output_type": "execute_result",
          "data": {
            "text/plain": [
              "[4, 8]"
            ]
          },
          "metadata": {
            "tags": []
          },
          "execution_count": 43
        }
      ]
    },
    {
      "cell_type": "code",
      "metadata": {
        "colab": {
          "base_uri": "https://localhost:8080/"
        },
        "id": "C18KJDhoKCFX",
        "outputId": "cef14720-1dd8-4a2e-92f8-56a5c7acfbe8"
      },
      "source": [
        "lt.insert(1,2)\n",
        "it"
      ],
      "execution_count": 39,
      "outputs": [
        {
          "output_type": "execute_result",
          "data": {
            "text/plain": [
              "[1, 2, 3, 4, 5]"
            ]
          },
          "metadata": {
            "tags": []
          },
          "execution_count": 39
        }
      ]
    },
    {
      "cell_type": "code",
      "metadata": {
        "colab": {
          "base_uri": "https://localhost:8080/"
        },
        "id": "ZwJRFnudKRPI",
        "outputId": "ad3e2a33-6a20-439c-d83d-930ed21a6476"
      },
      "source": [
        "lt.pop(0)\n",
        "lt"
      ],
      "execution_count": 41,
      "outputs": [
        {
          "output_type": "execute_result",
          "data": {
            "text/plain": [
              "[2, 6]"
            ]
          },
          "metadata": {
            "tags": []
          },
          "execution_count": 41
        }
      ]
    },
    {
      "cell_type": "markdown",
      "metadata": {
        "id": "mXjykxxSqMzy"
      },
      "source": [
        "### 리스트 변경\n",
        "* 추가\n",
        " - 리스트명.append(추가요소) : 마지막에 추가\n",
        " - 리스트명.insert(인덱스, 추가요소) : 해당 인덱스에 요소 추가\n",
        "\n",
        "* 삭제\n",
        " - 리스트명.pop() : 마지막 요소 삭제\n",
        " - 리스트명.pop(인덱스) : 해당 인덱스 요소 삭제\n",
        " - 리스트명.remove(요소값) : 해당 요소값 삭제, 해당 값이 없으면 오류\n",
        "\n",
        "* 수정\n",
        " - 리스트명[인덱스]=변경값\n",
        " - (참고) isinstance()함수 : 특정 객체가 특정 타입인지에 대해서 확인할 수 있는 방법"
      ]
    },
    {
      "cell_type": "code",
      "metadata": {
        "id": "O-i_PPx-qQdh",
        "colab": {
          "base_uri": "https://localhost:8080/"
        },
        "outputId": "778c6926-374a-4030-f47e-2f413d0dd29a"
      },
      "source": [
        "# 정수를 입력받아서 약수리스트를 구하기\n",
        "a=int(input())  \n",
        "b=[]\n",
        "for i in range(1,a+1):\n",
        "  if a%i==0:\n",
        "    b.append(i)\n",
        "print(b)"
      ],
      "execution_count": 2,
      "outputs": [
        {
          "output_type": "stream",
          "text": [
            "10\n",
            "[1, 2, 5, 10]\n"
          ],
          "name": "stdout"
        }
      ]
    },
    {
      "cell_type": "code",
      "metadata": {
        "colab": {
          "base_uri": "https://localhost:8080/"
        },
        "id": "L2elogmLTIlf",
        "outputId": "1220f0bb-0d15-4ee7-fb7f-88339e3bde67"
      },
      "source": [
        "print(f'합계 : {sum(b)}')\n",
        "print(f'최대값 : {max(b)}')\n",
        "print(f'최소값 : {min(b)}')\n",
        "print(f'평균: {sum(b) / len(b)}')"
      ],
      "execution_count": 4,
      "outputs": [
        {
          "output_type": "stream",
          "text": [
            "합계 : 18\n",
            "최대값 : 10\n",
            "최소값 : 1\n",
            "평균: 4.5\n"
          ],
          "name": "stdout"
        }
      ]
    },
    {
      "cell_type": "code",
      "metadata": {
        "colab": {
          "base_uri": "https://localhost:8080/"
        },
        "id": "RFc-e1uYqzl0",
        "outputId": "39f07340-a2ce-42bd-9dcf-455da7dd2794"
      },
      "source": [
        "#두번째 위치에 9 추가\n",
        " "
      ],
      "execution_count": null,
      "outputs": [
        {
          "output_type": "execute_result",
          "data": {
            "text/plain": [
              "[1, 9, 2, 5, 10]"
            ]
          },
          "metadata": {
            "tags": []
          },
          "execution_count": 14
        }
      ]
    },
    {
      "cell_type": "code",
      "metadata": {
        "colab": {
          "base_uri": "https://localhost:8080/"
        },
        "id": "jWJkTNWXrRqC",
        "outputId": "8b6ebe2b-5a9a-4e8b-e846-a1cca2fd356c"
      },
      "source": [
        "lt = [1, 2, 5 , 10]\n",
        "lt = [i for i in lt if i > 2]\n",
        "lt\n",
        "\n",
        "#2를 제외한 모든 요소 삭제"
      ],
      "execution_count": 5,
      "outputs": [
        {
          "output_type": "execute_result",
          "data": {
            "text/plain": [
              "[5, 10]"
            ]
          },
          "metadata": {
            "tags": []
          },
          "execution_count": 5
        }
      ]
    },
    {
      "cell_type": "code",
      "metadata": {
        "colab": {
          "base_uri": "https://localhost:8080/"
        },
        "id": "3lMPTiohb_NX",
        "outputId": "93dac4a1-fc2b-42bd-e310-12848611296b"
      },
      "source": [
        "lt = [1,2,5,10]\n",
        "for i in range(len(lt)-1,-1,-1):\n",
        "  if lt[i] == 2:\n",
        "    continue\n",
        "  lt.remove(lt[i])\n",
        "print(lt)\n"
      ],
      "execution_count": 6,
      "outputs": [
        {
          "output_type": "stream",
          "text": [
            "[2]\n"
          ],
          "name": "stdout"
        }
      ]
    },
    {
      "cell_type": "code",
      "metadata": {
        "id": "5iGnTAmUr5tB"
      },
      "source": [
        "# 문자인 요소를 숫자로 변경\n",
        "lt = [1, 2, '5', 10]\n",
        " "
      ],
      "execution_count": null,
      "outputs": []
    },
    {
      "cell_type": "markdown",
      "metadata": {
        "id": "sjMZQUazwNFi"
      },
      "source": [
        "### 리스트 메소드\n",
        "+ 리스트명.index(요소값) : 해당 요소값의 위치를 반환\n",
        " - 여러 개 요소가 존재하면 첫번째 위치 반환하고 없으면 오류\n",
        "+ 리스트명.count(요소값) : 리스트 요소 개수 구하기\n",
        "+ 리스트명.sort() : 오름차순 리스트 정렬\n",
        " - 리스트명.sort(reverse=True): 내림차순\n",
        "+ 리스트명.reverse() : 요소를 역순으로 뒤집어 줌 "
      ]
    },
    {
      "cell_type": "code",
      "metadata": {
        "colab": {
          "base_uri": "https://localhost:8080/"
        },
        "id": "-U0a1_4ccPsO",
        "outputId": "7e01c157-61f5-49f2-d08c-61c91c0dda70"
      },
      "source": [
        "lt = [4,2,1,23]\n",
        "lt.count(2)"
      ],
      "execution_count": 8,
      "outputs": [
        {
          "output_type": "execute_result",
          "data": {
            "text/plain": [
              "1"
            ]
          },
          "metadata": {
            "tags": []
          },
          "execution_count": 8
        }
      ]
    },
    {
      "cell_type": "code",
      "metadata": {
        "colab": {
          "base_uri": "https://localhost:8080/"
        },
        "id": "apEG6wSYcdIB",
        "outputId": "12e85868-1b41-405c-ab47-ec8dfbd00b89"
      },
      "source": [
        "lt = [4,2,1,23]\n",
        "lt.sort(reverse=True)\n",
        "print(lt)"
      ],
      "execution_count": 9,
      "outputs": [
        {
          "output_type": "stream",
          "text": [
            "[23, 4, 2, 1]\n"
          ],
          "name": "stdout"
        }
      ]
    },
    {
      "cell_type": "code",
      "metadata": {
        "colab": {
          "base_uri": "https://localhost:8080/"
        },
        "id": "rYa-a-cXcCDo",
        "outputId": "df918acb-fa7c-468c-f8f4-cba0e47a8489"
      },
      "source": [
        "s = 'hello'\n",
        "s.count('l')"
      ],
      "execution_count": 7,
      "outputs": [
        {
          "output_type": "execute_result",
          "data": {
            "text/plain": [
              "2"
            ]
          },
          "metadata": {
            "tags": []
          },
          "execution_count": 7
        }
      ]
    },
    {
      "cell_type": "markdown",
      "metadata": {
        "id": "43DdLbrKLA6M"
      },
      "source": [
        "---\n",
        "### 해결문제\n",
        "\n",
        "\n",
        "---\n",
        "회문(palindrome)은 순서를 거꾸로 읽어도 제대로 읽은 것과 같은 단어와 문장이다, 단어를 입력받아 회문인지 판별하시오."
      ]
    },
    {
      "cell_type": "code",
      "metadata": {
        "id": "2CnsD3licuyx"
      },
      "source": [
        "eye\n",
        "level"
      ],
      "execution_count": null,
      "outputs": []
    },
    {
      "cell_type": "code",
      "metadata": {
        "colab": {
          "base_uri": "https://localhost:8080/"
        },
        "id": "4Ut4OZ8dc5S3",
        "outputId": "40488e19-a540-4b35-e712-1c5e03b6404b"
      },
      "source": [
        "date = input()"
      ],
      "execution_count": 10,
      "outputs": [
        {
          "output_type": "stream",
          "text": [
            "토마토\n"
          ],
          "name": "stdout"
        }
      ]
    },
    {
      "cell_type": "code",
      "metadata": {
        "id": "EqHc4xGur1FO",
        "colab": {
          "base_uri": "https://localhost:8080/"
        },
        "outputId": "ed9e869b-3475-40fb-eb4a-d6beb08ea6a6"
      },
      "source": [
        "# reverse와 join 활용 \n",
        "date = input()\n",
        "\n",
        "lts = list(date)\n",
        "lts.reverse()\n",
        "s = ''.join(lts)\n",
        "\n",
        "if date == s : print(f'{date}는 회문')\n",
        "else : print(f'{date}는 비회문')"
      ],
      "execution_count": 18,
      "outputs": [
        {
          "output_type": "stream",
          "text": [
            "일요일\n",
            "일요일는 회문\n"
          ],
          "name": "stdout"
        }
      ]
    },
    {
      "cell_type": "code",
      "metadata": {
        "id": "n8En5ca4xyOb",
        "colab": {
          "base_uri": "https://localhost:8080/"
        },
        "outputId": "37dc899e-e986-45c6-a67c-1f18f6433d2e"
      },
      "source": [
        "# [::-1] : 처음부터 끝까지 -1칸 간격으로 ( == 역순으로) \n",
        "date =  input()\n",
        "s = date[::-1]\n",
        "\n",
        "if date == s : print(f'{date}는 회문')\n",
        "else : print(f'{date}는 비회문')"
      ],
      "execution_count": 22,
      "outputs": [
        {
          "output_type": "stream",
          "text": [
            "123321\n",
            "123321는 회문\n"
          ],
          "name": "stdout"
        }
      ]
    },
    {
      "cell_type": "markdown",
      "metadata": {
        "id": "7AJ45VMez0J1"
      },
      "source": [
        "### 리스트 내장함수\n",
        "* sum() : 리스트의 합을 반환\n",
        "* min() : 리스트 최소값 반환\n",
        "* max() : 리스트 최대값 반환\n",
        "* len() : 리스트 개수 반환"
      ]
    },
    {
      "cell_type": "markdown",
      "metadata": {
        "id": "SAa867TDz2jR"
      },
      "source": [
        "---\n",
        "### 해결문제\n",
        "\n",
        "\n",
        "---\n",
        "자신을 제외한 모든 약수의 합이 자신과 같은 수를 완전수라고 한다. \n",
        "입력한 값이 완전수 인지 확인해 보세요.\n",
        "예) 6, 28, 496"
      ]
    },
    {
      "cell_type": "code",
      "metadata": {
        "id": "Ag8tiyi4z7v1",
        "colab": {
          "base_uri": "https://localhost:8080/"
        },
        "outputId": "68f3eb28-6bf8-4493-af76-a8187307a409"
      },
      "source": [
        "a=int(input())  \n",
        "b=[] #자신을 제외한 약수 리스트 \n",
        "for i in range(1,a):\n",
        "  if a%i==0:\n",
        "    b.append(i)\n",
        "\n",
        "if a == sum(b) : print(f'{a}는 완전수 ')\n",
        "else : print(f'{a}는 완전수 아님 ')"
      ],
      "execution_count": 36,
      "outputs": [
        {
          "output_type": "stream",
          "text": [
            "6\n",
            "6는 완전수 \n"
          ],
          "name": "stdout"
        }
      ]
    },
    {
      "cell_type": "markdown",
      "metadata": {
        "id": "ggnd2AxcgBQI"
      },
      "source": [
        "\n",
        "\n",
        "---\n",
        "### 해결문제\n",
        "\n",
        "\n",
        "---\n",
        "369게임은 3,6,9가 포함된 숫자가 나오면 박수를 치는 게임이다.\n",
        "\n",
        "이때, 해당 숫자에 여러개의 3,6,9가 포함되면 해당 개수만큼 박수를 쳐야한다.\n",
        "\n",
        "예를 들어, 36이면 2번의 박수를 쳐야한다.\n",
        "N을 입력받아서 N이전까지 박수 친 횟수를 구하시오.\n",
        "\n",
        "예) 입력: 35, 출력: 15\n",
        "\n"
      ]
    },
    {
      "cell_type": "code",
      "metadata": {
        "id": "zzI1CYU6gChI",
        "colab": {
          "base_uri": "https://localhost:8080/"
        },
        "outputId": "ee6369d9-f582-43b6-e469-b8f897fbd5d1"
      },
      "source": [
        "n = int(input())\n",
        "\n",
        "cnt = 0\n",
        "for i in range(n) :\n",
        "  temp = list(str(i))\n",
        "  print(temp ,  \"=>\" , end =  ' ')\n",
        "  temp = [int(i) for i in temp]\n",
        "  \n",
        "  for  j  in temp :\n",
        "    if j in [3,6,9] : cnt = cnt + 1\n",
        "  print(cnt)\n",
        "\n",
        "print()\n",
        "print(cnt)    "
      ],
      "execution_count": 52,
      "outputs": [
        {
          "output_type": "stream",
          "text": [
            "40\n",
            "['0'] => 0\n",
            "['1'] => 0\n",
            "['2'] => 0\n",
            "['3'] => 1\n",
            "['4'] => 1\n",
            "['5'] => 1\n",
            "['6'] => 2\n",
            "['7'] => 2\n",
            "['8'] => 2\n",
            "['9'] => 3\n",
            "['1', '0'] => 3\n",
            "['1', '1'] => 3\n",
            "['1', '2'] => 3\n",
            "['1', '3'] => 4\n",
            "['1', '4'] => 4\n",
            "['1', '5'] => 4\n",
            "['1', '6'] => 5\n",
            "['1', '7'] => 5\n",
            "['1', '8'] => 5\n",
            "['1', '9'] => 6\n",
            "['2', '0'] => 6\n",
            "['2', '1'] => 6\n",
            "['2', '2'] => 6\n",
            "['2', '3'] => 7\n",
            "['2', '4'] => 7\n",
            "['2', '5'] => 7\n",
            "['2', '6'] => 8\n",
            "['2', '7'] => 8\n",
            "['2', '8'] => 8\n",
            "['2', '9'] => 9\n",
            "['3', '0'] => 10\n",
            "['3', '1'] => 11\n",
            "['3', '2'] => 12\n",
            "['3', '3'] => 14\n",
            "['3', '4'] => 15\n",
            "['3', '5'] => 16\n",
            "['3', '6'] => 18\n",
            "['3', '7'] => 19\n",
            "['3', '8'] => 20\n",
            "['3', '9'] => 22\n",
            "\n",
            "22\n"
          ],
          "name": "stdout"
        }
      ]
    },
    {
      "cell_type": "markdown",
      "metadata": {
        "id": "gyS_EUW72Rkg"
      },
      "source": [
        "## 튜플(tuple) \n",
        "+ 튜플의 각 요소는 순서를 가지고 있음\n",
        "+ 괄호(())로 작성되며 각 요소는 쉼표(,)로 구분\n",
        "+ 요소를 추가, 수정, 삭제 불가능\n",
        "+ **한번 결정된 요소는 변경 불가능**\n",
        "+ **인덱싱과 슬라이싱은 리스트와 동일**\n",
        "+ $+$와 $*$연산은 리스트와 동일\n",
        "+ 각 요소에 변수 할당 가능\n",
        " - x, y = (10, 20)"
      ]
    },
    {
      "cell_type": "code",
      "metadata": {
        "colab": {
          "base_uri": "https://localhost:8080/"
        },
        "id": "A2kOeAlntXBK",
        "outputId": "a7c65502-7f1b-43da-af22-b40756c129e4"
      },
      "source": [
        "tp = (10,20,30)\n",
        "print(tp, type(tp))"
      ],
      "execution_count": 55,
      "outputs": [
        {
          "output_type": "stream",
          "text": [
            "(10, 20, 30) <class 'tuple'>\n"
          ],
          "name": "stdout"
        }
      ]
    },
    {
      "cell_type": "markdown",
      "metadata": {
        "id": "Zu9JAJs22niA"
      },
      "source": [
        "---\n",
        "\n",
        "**생각해보기)**\n",
        "\n",
        "\n",
        "---\n",
        "튜플의 내용을 변경하고 싶을 경우는?\n"
      ]
    },
    {
      "cell_type": "markdown",
      "metadata": {
        "id": "VXfYSOdW8adn"
      },
      "source": [
        "## 딕션너리(dictionary)\n",
        " - 키(key)와 값(value) 쌍을 요소로 가짐\n",
        " - 중괄호({})로 작성되며 각 요소는 쉼표(,)로 구분\n",
        " - 순서 없음 \n",
        " - 키는 변경할 수 없으며 값은 변경가능 \n"
      ]
    },
    {
      "cell_type": "code",
      "metadata": {
        "id": "ngtkAr4y9h6p"
      },
      "source": [
        "areadata = {'서울시':57, '부산시':62, '대구시':59, \n",
        "            '인천시':59, '강화군':58, '서해5도' : 64, \n",
        "            '광주시' :62, '대전시':60, '울산시':53, \n",
        "            '세종시':58\t}"
      ],
      "execution_count": null,
      "outputs": []
    },
    {
      "cell_type": "code",
      "metadata": {
        "colab": {
          "base_uri": "https://localhost:8080/",
          "height": 208
        },
        "id": "cS52SSUrwhAc",
        "outputId": "f53589dc-9765-4101-99ad-9f21f71e7602"
      },
      "source": [
        "print(areadata)\n",
        "print(areadata.keys())\n",
        "print(areadata.values())"
      ],
      "execution_count": 58,
      "outputs": [
        {
          "output_type": "error",
          "ename": "NameError",
          "evalue": "ignored",
          "traceback": [
            "\u001b[0;31m---------------------------------------------------------------------------\u001b[0m",
            "\u001b[0;31mNameError\u001b[0m                                 Traceback (most recent call last)",
            "\u001b[0;32m<ipython-input-58-85d5fbb44774>\u001b[0m in \u001b[0;36m<module>\u001b[0;34m()\u001b[0m\n\u001b[0;32m----> 1\u001b[0;31m \u001b[0mprint\u001b[0m\u001b[0;34m(\u001b[0m\u001b[0mareadata\u001b[0m\u001b[0;34m)\u001b[0m\u001b[0;34m\u001b[0m\u001b[0;34m\u001b[0m\u001b[0m\n\u001b[0m\u001b[1;32m      2\u001b[0m \u001b[0mprint\u001b[0m\u001b[0;34m(\u001b[0m\u001b[0mareadata\u001b[0m\u001b[0;34m.\u001b[0m\u001b[0mkeys\u001b[0m\u001b[0;34m(\u001b[0m\u001b[0;34m)\u001b[0m\u001b[0;34m)\u001b[0m\u001b[0;34m\u001b[0m\u001b[0;34m\u001b[0m\u001b[0m\n\u001b[1;32m      3\u001b[0m \u001b[0mprint\u001b[0m\u001b[0;34m(\u001b[0m\u001b[0mareadata\u001b[0m\u001b[0;34m.\u001b[0m\u001b[0mvalues\u001b[0m\u001b[0;34m(\u001b[0m\u001b[0;34m)\u001b[0m\u001b[0;34m)\u001b[0m\u001b[0;34m\u001b[0m\u001b[0;34m\u001b[0m\u001b[0m\n",
            "\u001b[0;31mNameError\u001b[0m: name 'areadata' is not defined"
          ]
        }
      ]
    },
    {
      "cell_type": "markdown",
      "metadata": {
        "id": "8BUk47wo8gvW"
      },
      "source": [
        "### **딕션너리 접근**\n",
        " - 특정 요소 값 가져오기\n",
        "   + **딕션너리명[키]**\n",
        "   + **닥션너리명.get(키값)**\n",
        "    + Key에 대응되는 Value를 돌려줌\n",
        "    + 딕션너리명[키값]인 것과 동일 \n",
        "    + 차이점 : 키가 없을 경우 딕션너리명[키값]은 오류이고 get()으로 가져올 경우는 none\n",
        " - 요소 키 컬렉션  : 딕션너리명.keys()\n",
        " - 요소 값 컬렉션 : 딕션너리명.values()\n",
        " - 키와 요소 컬렉션은 list() 생성자로 리스트로 변환가능\n"
      ]
    },
    {
      "cell_type": "code",
      "metadata": {
        "id": "M39pJ_QNzlLv"
      },
      "source": [
        "#부산시 자료 가져오기\n",
        " "
      ],
      "execution_count": null,
      "outputs": []
    },
    {
      "cell_type": "code",
      "metadata": {
        "id": "gujVMNaN9m3M"
      },
      "source": [
        "#키와 값을 분리\n"
      ],
      "execution_count": null,
      "outputs": []
    },
    {
      "cell_type": "code",
      "metadata": {
        "id": "OTq4VK4FxDCx"
      },
      "source": [
        "areadata['충청'] = 1\n",
        "areadata['제주도'] = 100\n",
        "areadata['거제시'] = \n",
        "areadata['김해'] =\n",
        "\n",
        "areadata"
      ],
      "execution_count": null,
      "outputs": []
    },
    {
      "cell_type": "code",
      "metadata": {
        "id": "DYGZ98Lwxh0g"
      },
      "source": [
        "areadata.pop('충청')"
      ],
      "execution_count": null,
      "outputs": []
    },
    {
      "cell_type": "code",
      "metadata": {
        "id": "HM3IT7dN-B9q"
      },
      "source": [
        "#키와 값으로 출력 \n",
        "areadata['부산시'] = 70\n",
        "areadata"
      ],
      "execution_count": null,
      "outputs": []
    },
    {
      "cell_type": "markdown",
      "metadata": {
        "id": "NOiOmi-78m1x"
      },
      "source": [
        "### **요소 변경**\n",
        "* 추가 : 딕션너리명[추가키]=값\n",
        "* 수정 : 딕션너리명[키]=값\n",
        "* 삭제\n",
        " - del 딕션너리명[키]\n",
        " - 딕션너리명.pop[키]"
      ]
    },
    {
      "cell_type": "markdown",
      "metadata": {
        "id": "XMbGob4U-UX-"
      },
      "source": [
        "---\n",
        "\n",
        "\n",
        "### 해결문제\n",
        "\n",
        "---\n",
        "지역별 식중독 지수와 대응요령 딕션너리를 참고하여 해당 지역을 입력 받아서 대응요령을 출력하시오.\n",
        "\n",
        "\n",
        "+ 위험 : 86 이상 \n",
        " - 설사, 구토 등 식중독 의심 증상이 있으면 의료기관을 방문하여 의사 지시에 따름\n",
        "\n",
        "+ 경고:71 이상 86 미만\n",
        " - 조리도구는 세척, 소독 등을 거쳐 세균오염을 방지하고 유통기한, 보관방법 등을 확인하여 음식물 조리. 보관에 각별히 주의하여야 함\n",
        "\n",
        "+ 주의:55 이상 71 미만\n",
        " - 조리음식은 중심부까지 75℃(어패류 85℃)로 1분 이상 완전히 익히고 외부로 운반할 때에는 가급적 아이스박스 등을 이용하여 10℃이하에서 보관 및 운반\n",
        "\n",
        "+ 관심:55 미만\n",
        " - 화장실 사용 후, 귀가 후, 조리 전에 손 씻기를 생활화\n",
        "\n",
        "\n"
      ]
    },
    {
      "cell_type": "code",
      "metadata": {
        "id": "aVktTyG3-Tr1"
      },
      "source": [
        "areadata = {'서울시':57, '부산시':62, '대구시':59, \n",
        "            '인천시':59, '강화군':58, '서해5도' : 64, \n",
        "            '광주시' :62, '대전시':60, '울산시':53, \n",
        "            '세종시':58\t}\n",
        "\n",
        "report = {'위험': '설사, 구토 등 식중독 의심 증상이 있으면 의료기관을 방문하여 의사 지시에 따름',\n",
        "         '경고': '조리도구는 세척, 소독 등을 거쳐 세균오염을 방지하고 유통기한, 보관방법 등을 확인하여 음식물 조리. 보관에 각별히 주의하여야 함',\n",
        "         '주의': '조리음식은 중심부까지 75℃(어패류 85℃)로 1분 이상 완전히 익히고 외부로 운반할 때에는 가급적 아이스박스 등을 이용하여 10℃이하에서 보관 및 운반',\n",
        "         '관심': '화장실 사용 후, 귀가 후, 조리 전에 손 씻기를 생활화'}"
      ],
      "execution_count": null,
      "outputs": []
    },
    {
      "cell_type": "code",
      "metadata": {
        "id": "30BBbUL0-gg5"
      },
      "source": [
        "'''\n",
        "다음과 같이 출력 \n",
        "서울시(주의) : 조리음식은 중심부까지 75℃(어패류 85℃)로 1분 이상 완전히 익히고 외부로 운반할 때에는 가급적 아이스박스 등을 이용하여 10℃이하에서 보관 및 운반\n",
        "부산시(주의) : 조리음식은 중심부까지 75℃(어패류 85℃)로 1분 이상 완전히 익히고 외부로 운반할 때에는 가급적 아이스박스 등을 이용하여 10℃이하에서 보관 및 운반\n",
        "대구시(주의) : 조리음식은 중심부까지 75℃(어패류 85℃)로 1분 이상 완전히 익히고 외부로 운반할 때에는 가급적 아이스박스 등을 이용하여 10℃이하에서 보관 및 운반\n",
        "인천시(주의) : 조리음식은 중심부까지 75℃(어패류 85℃)로 1분 이상 완전히 익히고 외부로 운반할 때에는 가급적 아이스박스 등을 이용하여 10℃이하에서 보관 및 운반\n",
        "강화군(주의) : 조리음식은 중심부까지 75℃(어패류 85℃)로 1분 이상 완전히 익히고 외부로 운반할 때에는 가급적 아이스박스 등을 이용하여 10℃이하에서 보관 및 운반\n",
        "서해5도(주의) : 조리음식은 중심부까지 75℃(어패류 85℃)로 1분 이상 완전히 익히고 외부로 운반할 때에는 가급적 아이스박스 등을 이용하여 10℃이하에서 보관 및 운반\n",
        "광주시(주의) : 조리음식은 중심부까지 75℃(어패류 85℃)로 1분 이상 완전히 익히고 외부로 운반할 때에는 가급적 아이스박스 등을 이용하여 10℃이하에서 보관 및 운반\n",
        "대전시(주의) : 조리음식은 중심부까지 75℃(어패류 85℃)로 1분 이상 완전히 익히고 외부로 운반할 때에는 가급적 아이스박스 등을 이용하여 10℃이하에서 보관 및 운반\n",
        "울산시(관심) : 화장실 사용 후, 귀가 후, 조리 전에 손 씻기를 생활화\n",
        "세종시(주의) : 조리음식은 중심부까지 75℃(어패류 85℃)로 1분 이상 완전히 익히고 외부로 운반할 때에는 가급적 아이스박스 등을 이용하여 10℃이하에서 보관 및 운반\n",
        "'''\n",
        " "
      ],
      "execution_count": null,
      "outputs": []
    },
    {
      "cell_type": "markdown",
      "metadata": {
        "id": "A7PVvgK3CCOq"
      },
      "source": [
        "## 집합(set)\n",
        "+ **특징**\n",
        " - 중복 없는 요소로만 구성\n",
        " - 중괄호({}) 작성되며 각 요소는 쉼표(,)로 구분\n",
        " - 순서 없음\n",
        "\n",
        "+ **생성자 set()**\n",
        " - 리스트나 튜플의 중복 요소 제거 \n",
        "\n",
        "+ **요소 추가**\n",
        " - 집합명.add(요소) : 하나의 요소 추가\n",
        " - 집합명.update(추가집합) : 여러 요소를 추가\n",
        "\n",
        "+ **요소 삭제**\n",
        " - 집합명.remove(요소값) : 하나의 요소 삭제\n",
        " - 집합명.clear() : 모든 요소 삭제\n",
        " \n",
        "+ **집합 연산**\n",
        " - 교집합 : &\n",
        " - 합집합 : |\n",
        " - 차집합 : -"
      ]
    },
    {
      "cell_type": "code",
      "metadata": {
        "id": "2vi9kDbZC73c"
      },
      "source": [
        "lt = [11, 3,1, 2, 2, 3,3, 5]\n",
        "\n",
        "#중복 요소 제거  "
      ],
      "execution_count": null,
      "outputs": []
    },
    {
      "cell_type": "markdown",
      "metadata": {
        "id": "gXPzTZdiDTtL"
      },
      "source": [
        "## **zip()**\n",
        "+ 동일한 개수로 이루어진 컬렉션 자료형을 묶어 주는 역할을 하는 함수"
      ]
    },
    {
      "cell_type": "code",
      "metadata": {
        "id": "fmBetaMKDg3-"
      },
      "source": [
        "lt = [10,50,30]\n",
        "tp = ('a','b','c')\n",
        "\n",
        "#딕션너리 만들기 \n"
      ],
      "execution_count": null,
      "outputs": []
    },
    {
      "cell_type": "code",
      "metadata": {
        "id": "xNGHaezSDpGy"
      },
      "source": [
        "#리스트 만들기 "
      ],
      "execution_count": null,
      "outputs": []
    }
  ]
}